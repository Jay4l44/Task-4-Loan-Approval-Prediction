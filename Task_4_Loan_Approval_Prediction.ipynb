{
  "nbformat": 4,
  "nbformat_minor": 0,
  "metadata": {
    "colab": {
      "provenance": [],
      "collapsed_sections": [
        "B6ypq9lmUnAM",
        "oCIWUtrgVmRI",
        "-MidlLL8YqKp",
        "KcJCiFwDd7De"
      ],
      "authorship_tag": "ABX9TyPjALdeegXV8SaDgQA4GUqk",
      "include_colab_link": true
    },
    "kernelspec": {
      "name": "python3",
      "display_name": "Python 3"
    },
    "language_info": {
      "name": "python"
    }
  },
  "cells": [
    {
      "cell_type": "markdown",
      "metadata": {
        "id": "view-in-github",
        "colab_type": "text"
      },
      "source": [
        "<a href=\"https://colab.research.google.com/github/Jay4l44/Task-4-Loan-Approval-Prediction/blob/main/Task_4_Loan_Approval_Prediction.ipynb\" target=\"_parent\"><img src=\"https://colab.research.google.com/assets/colab-badge.svg\" alt=\"Open In Colab\"/></a>"
      ]
    },
    {
      "cell_type": "code",
      "execution_count": null,
      "metadata": {
        "id": "iDoscb-5TteH",
        "colab": {
          "base_uri": "https://localhost:8080/"
        },
        "outputId": "fb2022a3-7a20-4ff7-988c-55333308095d"
      },
      "outputs": [
        {
          "output_type": "stream",
          "name": "stdout",
          "text": [
            "Mounted at /content/drive\n"
          ]
        }
      ],
      "source": [
        "from google.colab import drive\n",
        "drive.mount('/content/drive')"
      ]
    },
    {
      "cell_type": "markdown",
      "source": [
        "# Loan Approval Prediction"
      ],
      "metadata": {
        "id": "C7wT8TB5USX4"
      }
    },
    {
      "cell_type": "markdown",
      "source": [
        "## Libraries Used"
      ],
      "metadata": {
        "id": "B6ypq9lmUnAM"
      }
    },
    {
      "cell_type": "code",
      "source": [
        "import pandas as pd\n",
        "import numpy as np\n",
        "import matplotlib.pyplot as plt\n",
        "import seaborn as sns\n",
        "import kagglehub\n",
        "from sklearn.model_selection import train_test_split\n",
        "from sklearn.preprocessing import LabelEncoder, StandardScaler\n",
        "from sklearn.linear_model import LogisticRegression\n",
        "from sklearn.tree import DecisionTreeClassifier\n",
        "from sklearn.metrics import classification_report, confusion_matrix, precision_score, recall_score, f1_score\n",
        "from imblearn.over_sampling import SMOTE\n",
        "import warnings\n",
        "warnings.filterwarnings('ignore') # To stop future warnings\n",
        "# Set custom color palette\n",
        "custom_colors = ['#FFFEFA', '#799CF0', '#FFF6D2', '#132FBA']\n",
        "sns.set_palette(custom_colors)\n",
        "\n",
        "print(\"All libraries imported successfully!\")"
      ],
      "metadata": {
        "colab": {
          "base_uri": "https://localhost:8080/"
        },
        "id": "-eAb29upUVtF",
        "outputId": "b3048c3e-face-422f-8e6c-ebe69fe424a1"
      },
      "execution_count": null,
      "outputs": [
        {
          "output_type": "stream",
          "name": "stdout",
          "text": [
            "All libraries imported successfully!\n"
          ]
        }
      ]
    },
    {
      "cell_type": "markdown",
      "source": [
        "## Dataset"
      ],
      "metadata": {
        "id": "oCIWUtrgVmRI"
      }
    },
    {
      "cell_type": "markdown",
      "source": [
        "### Import dataset"
      ],
      "metadata": {
        "id": "QCadNKtaVpe5"
      }
    },
    {
      "cell_type": "code",
      "source": [
        "# Download dataset from Kaggle\n",
        "path = kagglehub.dataset_download(\"architsharma01/loan-approval-prediction-dataset\")\n",
        "print(\"Path to dataset files:\", path)\n",
        "\n",
        "# Load the dataset\n",
        "import os\n",
        "print(\"Files in dataset:\", os.listdir(path))\n",
        "\n",
        "# Load the main dataset file\n",
        "print(\"\\nFiles in the dataset:\")\n",
        "for file in os.listdir(path):\n",
        "    print(f\"- {file}\")\n",
        "\n",
        "# Load the dataset with the correct filename\n",
        "df = pd.read_csv(os.path.join(path, 'loan_approval_dataset.csv'))\n",
        "print(f\"Dataset loaded successfully!\")"
      ],
      "metadata": {
        "colab": {
          "base_uri": "https://localhost:8080/"
        },
        "id": "xMBunr0jVomg",
        "outputId": "2ef9a4b5-82b9-46f7-bc9d-9dc173060e3d"
      },
      "execution_count": null,
      "outputs": [
        {
          "output_type": "stream",
          "name": "stdout",
          "text": [
            "Downloading from https://www.kaggle.com/api/v1/datasets/download/architsharma01/loan-approval-prediction-dataset?dataset_version_number=1...\n"
          ]
        },
        {
          "output_type": "stream",
          "name": "stderr",
          "text": [
            "100%|██████████| 80.6k/80.6k [00:00<00:00, 519kB/s]"
          ]
        },
        {
          "output_type": "stream",
          "name": "stdout",
          "text": [
            "Extracting files...\n",
            "Path to dataset files: /root/.cache/kagglehub/datasets/architsharma01/loan-approval-prediction-dataset/versions/1\n",
            "Files in dataset: ['loan_approval_dataset.csv']\n",
            "\n",
            "Files in the dataset:\n",
            "- loan_approval_dataset.csv\n",
            "Dataset loaded successfully!\n"
          ]
        },
        {
          "output_type": "stream",
          "name": "stderr",
          "text": [
            "\n"
          ]
        }
      ]
    },
    {
      "cell_type": "markdown",
      "source": [
        "### Check data for missing values"
      ],
      "metadata": {
        "id": "3C_zQ88MWruG"
      }
    },
    {
      "cell_type": "code",
      "source": [
        "# Display entire dataset\n",
        "print(f\"\\nComplete Dataset ({df.shape[0]} rows × {df.shape[1]} columns):\")\n",
        "df\n",
        "\n",
        "# Check missing data\n",
        "print(\"\\nMissing Data Analysis:\")\n",
        "missing_data = df.isnull().sum()\n",
        "print(\"Missing values per column:\")\n",
        "print(missing_data)\n",
        "\n",
        "# Show only columns with missing data\n",
        "missing_cols = missing_data[missing_data > 0]\n",
        "if len(missing_cols) > 0:\n",
        "    print(f\"\\nColumns with missing data:\")\n",
        "    for col, count in missing_cols.items():\n",
        "        percentage = (count / len(df)) * 100\n",
        "        print(f\"   • {col}: {count} missing ({percentage:.2f}%)\")\n",
        "else:\n",
        "    print(\"\\nNo missing data found!\")"
      ],
      "metadata": {
        "colab": {
          "base_uri": "https://localhost:8080/"
        },
        "id": "RKuHY1MxWuoy",
        "outputId": "a9dbc3d4-31e3-46db-941f-950b31330c4d"
      },
      "execution_count": null,
      "outputs": [
        {
          "output_type": "stream",
          "name": "stdout",
          "text": [
            "\n",
            "Complete Dataset (4269 rows × 13 columns):\n",
            "\n",
            "Missing Data Analysis:\n",
            "Missing values per column:\n",
            "loan_id                      0\n",
            " no_of_dependents            0\n",
            " education                   0\n",
            " self_employed               0\n",
            " income_annum                0\n",
            " loan_amount                 0\n",
            " loan_term                   0\n",
            " cibil_score                 0\n",
            " residential_assets_value    0\n",
            " commercial_assets_value     0\n",
            " luxury_assets_value         0\n",
            " bank_asset_value            0\n",
            " loan_status                 0\n",
            "dtype: int64\n",
            "\n",
            "No missing data found!\n"
          ]
        }
      ]
    },
    {
      "cell_type": "markdown",
      "source": [
        "## Data Understanding"
      ],
      "metadata": {
        "id": "-MidlLL8YqKp"
      }
    },
    {
      "cell_type": "markdown",
      "source": [
        "### Check for imbalance"
      ],
      "metadata": {
        "id": "ypr_3-JAZg2y"
      }
    },
    {
      "cell_type": "code",
      "source": [
        "print(\"\\nCategorical Features:\")\n",
        "categorical_cols = df.select_dtypes(include=['object']).columns.tolist()\n",
        "print(categorical_cols)\n",
        "\n",
        "print(\"\\nNumerical Features:\")\n",
        "numerical_cols = df.select_dtypes(include=['int64', 'float64']).columns.tolist()\n",
        "print(numerical_cols)\n",
        "\n",
        "# Check target variable for imbalance\n",
        "print(\"\\nTARGET VARIABLE IMBALANCE CHECK:\")\n",
        "target_counts = df[' loan_status'].value_counts()\n",
        "print(\"Loan Status distribution:\")\n",
        "print(target_counts)\n",
        "\n",
        "target_percent = df[' loan_status'].value_counts(normalize=True) * 100\n",
        "print(\"\\nLoan Status percentages:\")\n",
        "for status, percent in target_percent.items():\n",
        "    print(f\"  {status}: {percent:.2f}%\")\n",
        "\n",
        "# Check if imbalanced (if one class < 40% or > 60%)\n",
        "minority_percent = min(target_percent.values)\n",
        "if minority_percent < 40:\n",
        "    print(f\"\\nIMBALANCED DATASET DETECTED!\")\n",
        "    print(f\"Minority class: {minority_percent:.2f}% - Will need SMOTE!\")\n",
        "else:\n",
        "    print(f\"\\nBalanced dataset - no SMOTE needed\")"
      ],
      "metadata": {
        "colab": {
          "base_uri": "https://localhost:8080/"
        },
        "id": "VuDv_z2eYvYA",
        "outputId": "dd08b201-219f-4799-9da6-5f4d99e37aeb"
      },
      "execution_count": null,
      "outputs": [
        {
          "output_type": "stream",
          "name": "stdout",
          "text": [
            "\n",
            "Categorical Features:\n",
            "[' education', ' self_employed', ' loan_status']\n",
            "\n",
            "Numerical Features:\n",
            "['loan_id', ' no_of_dependents', ' income_annum', ' loan_amount', ' loan_term', ' cibil_score', ' residential_assets_value', ' commercial_assets_value', ' luxury_assets_value', ' bank_asset_value']\n",
            "\n",
            "TARGET VARIABLE IMBALANCE CHECK:\n",
            "Loan Status distribution:\n",
            " loan_status\n",
            "Approved    2656\n",
            "Rejected    1613\n",
            "Name: count, dtype: int64\n",
            "\n",
            "Loan Status percentages:\n",
            "   Approved: 62.22%\n",
            "   Rejected: 37.78%\n",
            "\n",
            "IMBALANCED DATASET DETECTED!\n",
            "Minority class: 37.78% - Will need SMOTE!\n"
          ]
        }
      ]
    },
    {
      "cell_type": "markdown",
      "source": [
        "### Visualize the imabalnce"
      ],
      "metadata": {
        "id": "Rc_jRUa-Zd72"
      }
    },
    {
      "cell_type": "code",
      "source": [
        "# Define custom color palette\n",
        "custom_colors = ['#FFFEFA', '#799CF0', '#FFF6D2', '#132FBA']\n",
        "accent_color = '#132FBA'\n",
        "\n",
        "# Set up custom matplotlib parameters\n",
        "plt.rcParams.update({\n",
        "    'figure.facecolor': '#FFFEFA',\n",
        "    'axes.facecolor': '#FFFEFA',\n",
        "    'axes.edgecolor': accent_color,\n",
        "    'axes.linewidth': 1.2,\n",
        "    'text.color': accent_color,\n",
        "    'axes.labelcolor': accent_color,\n",
        "    'xtick.color': accent_color,\n",
        "    'ytick.color': accent_color,\n",
        "    'font.size': 11,\n",
        "    'font.weight': 'medium'\n",
        "})\n",
        "\n",
        "# Create custom seaborn palette\n",
        "sns.set_palette(custom_colors)\n",
        "\n",
        "# Simple visualization\n",
        "fig, ax = plt.subplots(figsize=(10, 6)) # Create figure and axes objects\n",
        "target_counts = df[' loan_status'].value_counts()\n",
        "bars = ax.bar(target_counts.index, target_counts.values, color=['#799CF0', '#132FBA']) # Use ax for plotting\n",
        "\n",
        "ax.set_title('Loan Status Distribution - Class Imbalance Detected', fontsize=16, pad=20) # Use ax for title\n",
        "ax.set_xlabel('Loan Status') # Use ax for xlabel\n",
        "ax.set_ylabel('Count') # Use ax for ylabel\n",
        "ax.grid(True, alpha=0.3) # Use ax for grid\n",
        "\n",
        "# Add value labels\n",
        "for bar in bars:\n",
        "    height = bar.get_height()\n",
        "    ax.text(bar.get_x() + bar.get_width()/2., height + 20,f'{int(height)}\\n({height/len(df)*100:.1f}%)', ha='center', va='bottom') # Use ax for text\n",
        "\n",
        "fig.text(0.99, 0.01, 'Jana Alaa Task 4', fontsize=10, alpha=0.6, ha='right', style='italic', color='#132FBA')\n",
        "plt.tight_layout()\n",
        "plt.show()"
      ],
      "metadata": {
        "colab": {
          "base_uri": "https://localhost:8080/",
          "height": 617
        },
        "id": "eh_jD1zLZohu",
        "outputId": "72af1670-648d-4823-ad1e-9408a1814313"
      },
      "execution_count": null,
      "outputs": [
        {
          "output_type": "display_data",
          "data": {
            "text/plain": [
              "<Figure size 1000x600 with 1 Axes>"
            ],
            "image/png": "[encoded data removed]"
          },
          "metadata": {}
        }
      ]
    },
    {
      "cell_type": "markdown",
      "source": [
        "## Data Preprocessing"
      ],
      "metadata": {
        "id": "KcJCiFwDd7De"
      }
    },
    {
      "cell_type": "markdown",
      "source": [
        "### Prepare features and variables"
      ],
      "metadata": {
        "id": "PrfgoFf6YXKL"
      }
    },
    {
      "cell_type": "code",
      "metadata": {
        "colab": {
          "base_uri": "https://localhost:8080/"
        },
        "id": "2e485b9c",
        "outputId": "7a9ade55-5bac-4a01-b400-b283c693dd41"
      },
      "source": [
        "# Separate features and target\n",
        "print(\"\\nSeparating Features and Target Variable:\")\n",
        "\n",
        "# Create feature matrix (X) - exclude loan_id and target variable\n",
        "feature_cols = [col for col in df.columns if col not in ['loan_id', ' loan_status']]\n",
        "X = df[feature_cols].copy()\n",
        "y = df[' loan_status'].copy()\n",
        "\n",
        "print(f\"Feature matrix X: {X.shape}\")\n",
        "print(f\"Target variable y: {y.shape}\")\n",
        "print(f\"\\nFeatures to use: {feature_cols}\")"
      ],
      "execution_count": null,
      "outputs": [
        {
          "output_type": "stream",
          "name": "stdout",
          "text": [
            "\n",
            "Separating Features and Target Variable:\n",
            "Feature matrix X: (4269, 11)\n",
            "Target variable y: (4269,)\n",
            "\n",
            "Features to use: [' no_of_dependents', ' education', ' self_employed', ' income_annum', ' loan_amount', ' loan_term', ' cibil_score', ' residential_assets_value', ' commercial_assets_value', ' luxury_assets_value', ' bank_asset_value']\n"
          ]
        }
      ]
    },
    {
      "cell_type": "markdown",
      "source": [
        "### Identify features"
      ],
      "metadata": {
        "id": "dAnhBUTLZuJv"
      }
    },
    {
      "cell_type": "code",
      "source": [
        "categorical_features = [col for col in X.columns if X[col].dtype == 'object']\n",
        "numerical_features = [col for col in X.columns if X[col].dtype in ['int64', 'float64']]\n",
        "\n",
        "print(f\"Categorical features ({len(categorical_features)}): {categorical_features}\")\n",
        "print(f\"Numerical features ({len(numerical_features)}): {numerical_features}\")\n",
        "\n",
        "# Check unique values in categorical features\n",
        "print(\"\\nCategorical Feature Analysis:\")\n",
        "for col in categorical_features:\n",
        "    unique_vals = X[col].unique()\n",
        "    print(f\"   • {col}: {unique_vals}\")"
      ],
      "metadata": {
        "colab": {
          "base_uri": "https://localhost:8080/"
        },
        "id": "rkdI2a_lZxL9",
        "outputId": "5e33aff9-ccca-4024-8b3a-3fc0244e76ef"
      },
      "execution_count": null,
      "outputs": [
        {
          "output_type": "stream",
          "name": "stdout",
          "text": [
            "Categorical features (2): [' education', ' self_employed']\n",
            "Numerical features (9): [' no_of_dependents', ' income_annum', ' loan_amount', ' loan_term', ' cibil_score', ' residential_assets_value', ' commercial_assets_value', ' luxury_assets_value', ' bank_asset_value']\n",
            "\n",
            "Categorical Feature Analysis:\n",
            "   •  education: [' Graduate' ' Not Graduate']\n",
            "   •  self_employed: [' No' ' Yes']\n"
          ]
        }
      ]
    },
    {
      "cell_type": "markdown",
      "source": [
        "### Encoding"
      ],
      "metadata": {
        "id": "1flvQy9taDgZ"
      }
    },
    {
      "cell_type": "code",
      "source": [
        "from sklearn.preprocessing import LabelEncoder\n",
        "\n",
        "label_encoders = {}\n",
        "X_encoded = X.copy()\n",
        "\n",
        "for col in categorical_features:\n",
        "    le = LabelEncoder()\n",
        "    X_encoded[col] = le.fit_transform(X[col])\n",
        "    label_encoders[col] = le\n",
        "\n",
        "    print(f\"Encoded {col}:\")\n",
        "    print(f\"Original: {X[col].unique()}\")\n",
        "    print(f\"Encoded:  {X_encoded[col].unique()}\")\n",
        "\n",
        "print(f\"\\nAll categorical features encoded successfully!\")\n",
        "print(f\"Final feature matrix shape: {X_encoded.shape}\")\n",
        "\n",
        "# Verify no more object types\n",
        "print(f\"\\nData types after encoding:\")\n",
        "print(X_encoded.dtypes.value_counts())"
      ],
      "metadata": {
        "colab": {
          "base_uri": "https://localhost:8080/"
        },
        "id": "02GxwDKuaGB1",
        "outputId": "dc7c324b-ea3b-4d14-be3e-19938f7d672d"
      },
      "execution_count": null,
      "outputs": [
        {
          "output_type": "stream",
          "name": "stdout",
          "text": [
            "Encoded  education:\n",
            "Original: [' Graduate' ' Not Graduate']\n",
            "Encoded:  [0 1]\n",
            "Encoded  self_employed:\n",
            "Original: [' No' ' Yes']\n",
            "Encoded:  [0 1]\n",
            "\n",
            "All categorical features encoded successfully!\n",
            "Final feature matrix shape: (4269, 11)\n",
            "\n",
            "Data types after encoding:\n",
            "int64    11\n",
            "Name: count, dtype: int64\n"
          ]
        }
      ]
    },
    {
      "cell_type": "markdown",
      "source": [
        "### Prepare target variable & train-test split"
      ],
      "metadata": {
        "id": "_Bo7NiNEadWv"
      }
    },
    {
      "cell_type": "code",
      "source": [
        "# Encode target variable\n",
        "target_encoder = LabelEncoder()\n",
        "y_encoded = target_encoder.fit_transform(y)\n",
        "\n",
        "print(f\"Target variable encoded:\")\n",
        "print(f\"Original: {y.unique()}\")\n",
        "print(f\"Encoded:  {np.unique(y_encoded)}\")\n",
        "\n",
        "# Create stratified train-test split\n",
        "from sklearn.model_selection import train_test_split\n",
        "\n",
        "X_train, X_test, y_train, y_test = train_test_split(\n",
        "    X_encoded, y_encoded,\n",
        "    test_size=0.2,\n",
        "    random_state=42,\n",
        "    stratify=y_encoded\n",
        ")\n",
        "\n",
        "print(f\"\\nTrain-Test Split Results:\")\n",
        "print(f\"Training set: {X_train.shape[0]} samples\")\n",
        "print(f\"Test set: {X_test.shape[0]} samples\")\n",
        "\n",
        "# Check class distribution in splits\n",
        "print(f\"\\nClass Distribution Check:\")\n",
        "train_dist = np.bincount(y_train) / len(y_train) * 100\n",
        "test_dist = np.bincount(y_test) / len(y_test) * 100\n",
        "print(f\"Training: {train_dist[0]:.1f}% / {train_dist[1]:.1f}%\")\n",
        "print(f\"Test: {test_dist[0]:.1f}% / {test_dist[1]:.1f}%\")"
      ],
      "metadata": {
        "colab": {
          "base_uri": "https://localhost:8080/"
        },
        "id": "ogmoC0Msaj8d",
        "outputId": "5f669993-0866-49a6-eac2-797386509a2e"
      },
      "execution_count": null,
      "outputs": [
        {
          "output_type": "stream",
          "name": "stdout",
          "text": [
            "Target variable encoded:\n",
            "Original: [' Approved' ' Rejected']\n",
            "Encoded:  [0 1]\n",
            "\n",
            "Train-Test Split Results:\n",
            "Training set: 3415 samples\n",
            "Test set: 854 samples\n",
            "\n",
            "Class Distribution Check:\n",
            "Training: 62.2% / 37.8%\n",
            "Test: 62.2% / 37.8%\n"
          ]
        }
      ]
    },
    {
      "cell_type": "markdown",
      "source": [
        "### Apply SMOTE"
      ],
      "metadata": {
        "id": "JAd33en_bIzF"
      }
    },
    {
      "cell_type": "code",
      "source": [
        "from imblearn.over_sampling import SMOTE\n",
        "\n",
        "# Apply SMOTE only to training data\n",
        "smote = SMOTE(random_state=42)\n",
        "X_train_balanced, y_train_balanced = smote.fit_resample(X_train, y_train)\n",
        "\n",
        "print(f\"Before SMOTE (Training):\")\n",
        "unique, counts = np.unique(y_train, return_counts=True)\n",
        "for i, (label, count) in enumerate(zip(unique, counts)):\n",
        "    target_name = target_encoder.inverse_transform([label])[0]\n",
        "    print(f\"{target_name}: {count} samples ({count/len(y_train)*100:.1f}%)\")\n",
        "\n",
        "print(f\"\\nAfter SMOTE (Training):\")\n",
        "unique, counts = np.unique(y_train_balanced, return_counts=True)\n",
        "for i, (label, count) in enumerate(zip(unique, counts)):\n",
        "    target_name = target_encoder.inverse_transform([label])[0]\n",
        "    print(f\"   {target_name}: {count} samples ({count/len(y_train_balanced)*100:.1f}%)\")\n",
        "\n",
        "print(f\"\\nSMOTE Results:\")\n",
        "print(f\"Original training size: {X_train.shape[0]}\")\n",
        "print(f\"Balanced training size: {X_train_balanced.shape[0]}\")\n",
        "print(f\"New samples created: {X_train_balanced.shape[0] - X_train.shape[0]}\")"
      ],
      "metadata": {
        "colab": {
          "base_uri": "https://localhost:8080/"
        },
        "id": "oWFIh6BYbFZM",
        "outputId": "e3b6152f-0b8e-49c9-b6a7-63dcf99e2879"
      },
      "execution_count": null,
      "outputs": [
        {
          "output_type": "stream",
          "name": "stdout",
          "text": [
            "Before SMOTE (Training):\n",
            " Approved: 2125 samples (62.2%)\n",
            " Rejected: 1290 samples (37.8%)\n",
            "\n",
            "After SMOTE (Training):\n",
            "    Approved: 2125 samples (50.0%)\n",
            "    Rejected: 2125 samples (50.0%)\n",
            "\n",
            "SMOTE Results:\n",
            "Original training size: 3415\n",
            "Balanced training size: 4250\n",
            "New samples created: 835\n"
          ]
        }
      ]
    },
    {
      "cell_type": "markdown",
      "source": [
        "## Model Training"
      ],
      "metadata": {
        "id": "f9YlA4XccA3v"
      }
    },
    {
      "cell_type": "markdown",
      "source": [
        "### Logistic regression model"
      ],
      "metadata": {
        "id": "Vn3CWc19cETy"
      }
    },
    {
      "cell_type": "code",
      "source": [
        "# Train Logistic Regression\n",
        "print(\"\\nTraining Logistic Regression...\")\n",
        "from sklearn.linear_model import LogisticRegression\n",
        "\n",
        "lr_model = LogisticRegression(random_state=42, max_iter=1000)\n",
        "lr_model.fit(X_train_balanced, y_train_balanced)\n",
        "\n",
        "print(\"Logistic Regression trained successfully!\")\n",
        "\n",
        "# Train Decision Tree\n",
        "print(\"\\nTraining Decision Tree...\")\n",
        "from sklearn.tree import DecisionTreeClassifier\n",
        "\n",
        "dt_model = DecisionTreeClassifier(random_state=42, max_depth=10)\n",
        "dt_model.fit(X_train_balanced, y_train_balanced)\n",
        "\n",
        "print(\"Decision Tree trained successfully!\")\n",
        "print(f\"\\nBoth models trained on {X_train_balanced.shape[0]} balanced samples\")"
      ],
      "metadata": {
        "colab": {
          "base_uri": "https://localhost:8080/"
        },
        "id": "9DoqXjH_cDKH",
        "outputId": "e1f6e6b4-81ef-4110-8f74-aef0d1623d4a"
      },
      "execution_count": null,
      "outputs": [
        {
          "output_type": "stream",
          "name": "stdout",
          "text": [
            "\n",
            "Training Logistic Regression...\n",
            "Logistic Regression trained successfully!\n",
            "\n",
            "Training Decision Tree...\n",
            "Decision Tree trained successfully!\n",
            "\n",
            "Both models trained on 4250 balanced samples\n"
          ]
        }
      ]
    },
    {
      "cell_type": "markdown",
      "source": [
        "### Predictions"
      ],
      "metadata": {
        "id": "-RL5Mkpucfxu"
      }
    },
    {
      "cell_type": "code",
      "source": [
        "# Logistic Regression predictions\n",
        "lr_predictions = lr_model.predict(X_test)\n",
        "lr_probabilities = lr_model.predict_proba(X_test)\n",
        "\n",
        "# Decision Tree predictions\n",
        "dt_predictions = dt_model.predict(X_test)\n",
        "dt_probabilities = dt_model.predict_proba(X_test)\n",
        "\n",
        "print(\"Predictions completed for both models!\")\n",
        "print(f\"Test set size: {len(X_test)} samples\")\n",
        "\n",
        "# Quick prediction summary\n",
        "print(f\"\\nPrediction Summary:\")\n",
        "lr_approved = sum(lr_predictions == 0)\n",
        "lr_rejected = sum(lr_predictions == 1)\n",
        "dt_approved = sum(dt_predictions == 0)\n",
        "dt_rejected = sum(dt_predictions == 1)\n",
        "\n",
        "print(f\"Logistic Regression: {lr_approved} Approved, {lr_rejected} Rejected\")\n",
        "print(f\"Decision Tree: {dt_approved} Approved, {dt_rejected} Rejected\")"
      ],
      "metadata": {
        "colab": {
          "base_uri": "https://localhost:8080/"
        },
        "id": "VprgFPWrci_J",
        "outputId": "a8a53462-acdb-4ed0-c5a2-c697bbaa2e57"
      },
      "execution_count": null,
      "outputs": [
        {
          "output_type": "stream",
          "name": "stdout",
          "text": [
            "Predictions completed for both models!\n",
            "Test set size: 854 samples\n",
            "\n",
            "Prediction Summary:\n",
            "Logistic Regression: 539 Approved, 315 Rejected\n",
            "Decision Tree: 529 Approved, 325 Rejected\n"
          ]
        }
      ]
    },
    {
      "cell_type": "markdown",
      "source": [
        "### Evaluation"
      ],
      "metadata": {
        "id": "fzLWtJQ5dLr0"
      }
    },
    {
      "cell_type": "code",
      "source": [
        "from sklearn.metrics import classification_report, confusion_matrix, precision_score, recall_score, f1_score\n",
        "\n",
        "# Logistic Regression Performance\n",
        "print(\"\\nLOGISTIC REGRESSION PERFORMANCE:\")\n",
        "print(\"-\" * 40)\n",
        "\n",
        "lr_precision = precision_score(y_test, lr_predictions, average='weighted')\n",
        "lr_recall = recall_score(y_test, lr_predictions, average='weighted')\n",
        "lr_f1 = f1_score(y_test, lr_predictions, average='weighted')\n",
        "\n",
        "print(f\"Precision: {lr_precision:.3f}\")\n",
        "print(f\"Recall:    {lr_recall:.3f}\")\n",
        "print(f\"F1-Score:  {lr_f1:.3f}\")\n",
        "\n",
        "print(\"\\nDetailed Classification:\")\n",
        "print(classification_report(y_test, lr_predictions, target_names=['Approved', 'Rejected']))\n",
        "\n",
        "# Decision Tree Performance\n",
        "print(\"\\nDECISION TREE PERFORMANCE:\")\n",
        "print(\"-\" * 40)\n",
        "\n",
        "dt_precision = precision_score(y_test, dt_predictions, average='weighted')\n",
        "dt_recall = recall_score(y_test, dt_predictions, average='weighted')\n",
        "dt_f1 = f1_score(y_test, dt_predictions, average='weighted')\n",
        "\n",
        "print(f\"Precision: {dt_precision:.3f}\")\n",
        "print(f\"Recall:    {dt_recall:.3f}\")\n",
        "print(f\"F1-Score:  {dt_f1:.3f}\")\n",
        "\n",
        "print(\"\\nDetailed Classification:\")\n",
        "print(classification_report(y_test, dt_predictions, target_names=['Approved', 'Rejected']))\n",
        "\n",
        "print(f\"Performance Comparison:\")\n",
        "print(f\"   Logistic Regression - F1: {lr_f1:.3f}, Precision: {lr_precision:.3f}, Recall: {lr_recall:.3f}\")\n",
        "print(f\"   Decision Tree       - F1: {dt_f1:.3f}, Precision: {dt_precision:.3f}, Recall: {dt_recall:.3f}\")\n",
        "\n",
        "# Calculate performance difference\n",
        "improvement = ((dt_f1 - lr_f1) / lr_f1) * 100\n",
        "\n",
        "print(f\"\\nDecision Tree Classifier was more accurate!\")\n",
        "print(f\"Performance improvement: {improvement:.1f}% better than Logistic Regression\")"
      ],
      "metadata": {
        "colab": {
          "base_uri": "https://localhost:8080/"
        },
        "id": "rE9ZLpBDdN9t",
        "outputId": "c5d287d3-6bd2-4283-fde3-84d78019ef6b"
      },
      "execution_count": null,
      "outputs": [
        {
          "output_type": "stream",
          "name": "stdout",
          "text": [
            "\n",
            "LOGISTIC REGRESSION PERFORMANCE:\n",
            "----------------------------------------\n",
            "Precision: 0.793\n",
            "Recall:    0.794\n",
            "F1-Score:  0.793\n",
            "\n",
            "Detailed Classification:\n",
            "              precision    recall  f1-score   support\n",
            "\n",
            "    Approved       0.83      0.84      0.84       531\n",
            "    Rejected       0.73      0.72      0.72       323\n",
            "\n",
            "    accuracy                           0.79       854\n",
            "   macro avg       0.78      0.78      0.78       854\n",
            "weighted avg       0.79      0.79      0.79       854\n",
            "\n",
            "\n",
            "DECISION TREE PERFORMANCE:\n",
            "----------------------------------------\n",
            "Precision: 0.979\n",
            "Recall:    0.979\n",
            "F1-Score:  0.979\n",
            "\n",
            "Detailed Classification:\n",
            "              precision    recall  f1-score   support\n",
            "\n",
            "    Approved       0.98      0.98      0.98       531\n",
            "    Rejected       0.97      0.98      0.97       323\n",
            "\n",
            "    accuracy                           0.98       854\n",
            "   macro avg       0.98      0.98      0.98       854\n",
            "weighted avg       0.98      0.98      0.98       854\n",
            "\n",
            "Performance Comparison:\n",
            "   Logistic Regression - F1: 0.793, Precision: 0.793, Recall: 0.794\n",
            "   Decision Tree       - F1: 0.979, Precision: 0.979, Recall: 0.979\n",
            "\n",
            "Decision Tree Classifier was more accurate!\n",
            "Performance improvement: 23.4% better than Logistic Regression\n"
          ]
        }
      ]
    },
    {
      "cell_type": "markdown",
      "source": [
        "### Comparison visual"
      ],
      "metadata": {
        "id": "nhTmAMJaeqXd"
      }
    },
    {
      "cell_type": "code",
      "source": [
        "fig, (ax1, ax2) = plt.subplots(1, 2, figsize=(15, 6))\n",
        "fig.suptitle('Loan Approval Prediction - Model Performance Comparison', fontsize=16, color='#132FBA', y=0.98)\n",
        "\n",
        "# Performance metrics comparison\n",
        "models = ['Logistic\\nRegression', 'Decision\\nTree']\n",
        "precision_scores = [0.793, 0.979]\n",
        "recall_scores = [0.794, 0.979]\n",
        "f1_scores = [0.793, 0.979]\n",
        "\n",
        "x_pos = np.arange(len(models))\n",
        "width = 0.25\n",
        "\n",
        "# Bar chart of metrics\n",
        "bars1 = ax1.bar(x_pos - width, precision_scores, width, label='Precision', color='#799CF0')\n",
        "bars2 = ax1.bar(x_pos, recall_scores, width, label='Recall', color='#FFF6D2')\n",
        "bars3 = ax1.bar(x_pos + width, f1_scores, width, label='F1-Score', color='#132FBA')\n",
        "\n",
        "ax1.set_title('Performance Metrics Comparison')\n",
        "ax1.set_xlabel('Models')\n",
        "ax1.set_ylabel('Score')\n",
        "ax1.set_xticks(x_pos)\n",
        "ax1.set_xticklabels(models)\n",
        "ax1.legend()\n",
        "ax1.set_ylim(0, 1.1)\n",
        "\n",
        "# Add value labels ABOVE bars with proper spacing\n",
        "for i, (p, r, f) in enumerate(zip(precision_scores, recall_scores, f1_scores)):\n",
        "    ax1.text(i-width, p+0.02, f'{p:.3f}', ha='center', va='bottom', fontsize=9)\n",
        "    ax1.text(i, r+0.02, f'{r:.3f}', ha='center', va='bottom', fontsize=9)\n",
        "    ax1.text(i+width, f+0.02, f'{f:.3f}', ha='center', va='bottom', fontsize=9)\n",
        "\n",
        "# Winner highlight\n",
        "ax2.pie([79.3, 97.9], labels=['Logistic Regression\\n79.3%', 'Decision Tree\\n97.9%'], colors=['#FFF6D2', '#132FBA'], autopct='', startangle=90)\n",
        "ax2.set_title('Overall F1-Score Comparison')\n",
        "\n",
        "# watermark\n",
        "fig.text(0.99, 0.01, 'Jana Alaa Task 4', fontsize=10, alpha=0.7, ha='right', style='italic', color='#132FBA')\n",
        "\n",
        "plt.tight_layout()\n",
        "plt.show()"
      ],
      "metadata": {
        "colab": {
          "base_uri": "https://localhost:8080/",
          "height": 642
        },
        "id": "7DEvNYxUetd5",
        "outputId": "54863f0a-334d-40f7-9de2-9bdf0ad776d6"
      },
      "execution_count": null,
      "outputs": [
        {
          "output_type": "display_data",
          "data": {
            "text/plain": [
              "<Figure size 1500x600 with 2 Axes>"
            ],
            "image/png": "[encoded data removed]"
          },
          "metadata": {}
        }
      ]
    },
    {
      "cell_type": "markdown",
      "source": [
        "## Conclusion"
      ],
      "metadata": {
        "id": "3k3K_6BUge5O"
      }
    },
    {
      "cell_type": "markdown",
      "source": [
        "This loan approval prediction analysis successfully developed a binary classification system achieving 97.9% F1-score using Decision Tree modeling on a dataset of 4,269 loan applications. The analysis effectively addressed class imbalance and demonstrated superior model performance compared to traditional approaches.\n",
        "\n",
        "**Model Performance Results:**\n",
        "Decision Tree Classifier - Winner: 97.9% F1-score, 98% precision for approvals, 97% precision for rejections\n",
        "Logistic Regression - Baseline: 79.3% F1-score, 83% precision for approvals, 73% precision for rejections\n",
        "\n",
        "**Dataset Characteristics:**\n",
        "- 4,269 loan applications with 11 predictive features\n",
        "- Class imbalance identified: 62.2% approved vs 37.8% rejected\n",
        "- No missing data requiring imputation\n",
        "- Two categorical features successfully encoded (education level, employment status)\n",
        "\n",
        "**Technical Implementation:**\n",
        "SMOTE application successfully balanced training data from 3,415 to 4,250 samples, creating 835 synthetic minority class instances. Stratified train-test split maintained class distribution integrity across both training (80%) and testing (20%) sets.\n",
        "\n",
        "**Method Comparison Results:**\n",
        "Decision Tree classification significantly outperformed Logistic Regression with a 23.4% improvement in F1-score. The tree-based approach demonstrated superior capability in capturing non-linear relationships within loan approval patterns, while logistic regression showed limitations in handling complex feature interactions.\n",
        "\n",
        "## Business Applications\n",
        "\n",
        "**Risk Assessment Enhancement:**\n",
        "The 97% precision rate for loan rejections enables effective identification of high-risk applications, reducing potential defaults and financial losses. The model's ability to correctly classify rejected applications minimizes opportunity costs from overly conservative lending practices.\n",
        "\n",
        "**Automated Decision Support:**\n",
        "With 98% overall accuracy, the model provides reliable automated screening for loan applications, enabling:\n",
        "* Faster processing times for routine approvals\n",
        "* Consistent risk evaluation across all applications  \n",
        "* Reduced manual review requirements for clear-cut cases\n",
        "* Improved customer experience through rapid decision feedback\n",
        "\n",
        "**Regulatory Compliance:**\n",
        "The interpretable nature of Decision Tree models supports regulatory requirements for explainable AI in financial services, enabling clear documentation of decision factors for audit purposes.\n",
        "\n",
        "## Strategic Recommendations\n",
        "\n",
        "**Model Deployment:** Implement Decision Tree classifier as primary automated screening tool with human review for borderline cases scoring between 0.4-0.6 probability thresholds.\n",
        "\n",
        "**Performance Monitoring:** Establish monthly model validation protocols to detect concept drift and maintain prediction accuracy as market conditions evolve.\n",
        "\n",
        "**Feature Enhancement:** Consider incorporating additional data sources such as credit bureau information, employment verification, and debt-to-income ratios for improved predictive power.\n",
        "\n",
        "**Risk Management Integration:** Integrate model outputs with existing risk assessment frameworks to create comprehensive loan evaluation pipelines.\n",
        "\n",
        "The analysis demonstrates successful application of machine learning techniques to financial risk assessment, providing actionable insights for automated loan processing while maintaining high accuracy standards required for production deployment."
      ],
      "metadata": {
        "id": "HdM4_02Lge_r"
      }
    }
  ]
}